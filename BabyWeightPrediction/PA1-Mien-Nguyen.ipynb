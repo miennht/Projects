{
 "cells": [
  {
   "cell_type": "markdown",
   "metadata": {},
   "source": [
    "# Programming Assignment 1\n",
    "* CSCI-4930/5930 ML Spring 2019  (Be sure to discard which section you are not enrolled)\n",
    "* Author: Ashis Biswas (Replace my name with yours)\n",
    "\n",
    "## Tasks for everyone (Tasks 1-15)\n",
    "\n",
    "### TASK 1: Import all the necessary packages here\n",
    "\n",
    "\n",
    "\n",
    "\n",
    "\n"
   ]
  },
  {
   "cell_type": "code",
   "execution_count": 1,
   "metadata": {},
   "outputs": [],
   "source": [
    "import pandas as pd\n",
    "import matplotlib.pyplot as plt\n",
    "import seaborn as sns\n",
    "import random\n",
    "import numpy as np\n",
    "import math\n",
    "from numpy.linalg import inv\n",
    "from sklearn.preprocessing import StandardScaler\n",
    "from sklearn.feature_selection import SelectPercentile\n",
    "from sklearn.feature_selection import f_regression\n",
    "from sklearn.model_selection import train_test_split\n",
    "from scipy import stats\n",
    "from scipy.stats import norm\n",
    "import warnings\n",
    "warnings.filterwarnings('ignore')\n",
    "%matplotlib inline"
   ]
  },
  {
   "cell_type": "markdown",
   "metadata": {},
   "source": [
    "### TASK 2: Load the dataset into memory so that you can play with it here"
   ]
  },
  {
   "cell_type": "code",
   "execution_count": 2,
   "metadata": {},
   "outputs": [
    {
     "name": "stdout",
     "output_type": "stream",
     "text": [
      "TASK 2: Read the dataset...\n",
      "(101400, 37)\n"
     ]
    },
    {
     "data": {
      "text/html": [
       "<div>\n",
       "<style scoped>\n",
       "    .dataframe tbody tr th:only-of-type {\n",
       "        vertical-align: middle;\n",
       "    }\n",
       "\n",
       "    .dataframe tbody tr th {\n",
       "        vertical-align: top;\n",
       "    }\n",
       "\n",
       "    .dataframe thead th {\n",
       "        text-align: right;\n",
       "    }\n",
       "</style>\n",
       "<table border=\"1\" class=\"dataframe\">\n",
       "  <thead>\n",
       "    <tr style=\"text-align: right;\">\n",
       "      <th></th>\n",
       "      <th>ID</th>\n",
       "      <th>SEX</th>\n",
       "      <th>MARITAL</th>\n",
       "      <th>FAGE</th>\n",
       "      <th>GAINED</th>\n",
       "      <th>VISITS</th>\n",
       "      <th>MAGE</th>\n",
       "      <th>FEDUC</th>\n",
       "      <th>MEDUC</th>\n",
       "      <th>TOTALP</th>\n",
       "      <th>...</th>\n",
       "      <th>HYPERCH</th>\n",
       "      <th>HYPERPR</th>\n",
       "      <th>ECLAMP</th>\n",
       "      <th>CERVIX</th>\n",
       "      <th>PINFANT</th>\n",
       "      <th>PRETERM</th>\n",
       "      <th>RENAL</th>\n",
       "      <th>RHSEN</th>\n",
       "      <th>UTERINE</th>\n",
       "      <th>BWEIGHT</th>\n",
       "    </tr>\n",
       "  </thead>\n",
       "  <tbody>\n",
       "    <tr>\n",
       "      <th>0</th>\n",
       "      <td>2001</td>\n",
       "      <td>2</td>\n",
       "      <td>1</td>\n",
       "      <td>33</td>\n",
       "      <td>26</td>\n",
       "      <td>10</td>\n",
       "      <td>34</td>\n",
       "      <td>12</td>\n",
       "      <td>4</td>\n",
       "      <td>2</td>\n",
       "      <td>...</td>\n",
       "      <td>0</td>\n",
       "      <td>0</td>\n",
       "      <td>0</td>\n",
       "      <td>0</td>\n",
       "      <td>0</td>\n",
       "      <td>0</td>\n",
       "      <td>0</td>\n",
       "      <td>0</td>\n",
       "      <td>0</td>\n",
       "      <td>4.3750</td>\n",
       "    </tr>\n",
       "    <tr>\n",
       "      <th>1</th>\n",
       "      <td>2002</td>\n",
       "      <td>2</td>\n",
       "      <td>2</td>\n",
       "      <td>19</td>\n",
       "      <td>40</td>\n",
       "      <td>10</td>\n",
       "      <td>18</td>\n",
       "      <td>11</td>\n",
       "      <td>12</td>\n",
       "      <td>1</td>\n",
       "      <td>...</td>\n",
       "      <td>0</td>\n",
       "      <td>0</td>\n",
       "      <td>0</td>\n",
       "      <td>0</td>\n",
       "      <td>0</td>\n",
       "      <td>0</td>\n",
       "      <td>0</td>\n",
       "      <td>0</td>\n",
       "      <td>0</td>\n",
       "      <td>6.9375</td>\n",
       "    </tr>\n",
       "    <tr>\n",
       "      <th>2</th>\n",
       "      <td>2003</td>\n",
       "      <td>2</td>\n",
       "      <td>1</td>\n",
       "      <td>33</td>\n",
       "      <td>16</td>\n",
       "      <td>14</td>\n",
       "      <td>31</td>\n",
       "      <td>16</td>\n",
       "      <td>16</td>\n",
       "      <td>2</td>\n",
       "      <td>...</td>\n",
       "      <td>0</td>\n",
       "      <td>0</td>\n",
       "      <td>0</td>\n",
       "      <td>0</td>\n",
       "      <td>0</td>\n",
       "      <td>0</td>\n",
       "      <td>0</td>\n",
       "      <td>0</td>\n",
       "      <td>0</td>\n",
       "      <td>8.5000</td>\n",
       "    </tr>\n",
       "    <tr>\n",
       "      <th>3</th>\n",
       "      <td>2004</td>\n",
       "      <td>1</td>\n",
       "      <td>1</td>\n",
       "      <td>25</td>\n",
       "      <td>40</td>\n",
       "      <td>15</td>\n",
       "      <td>28</td>\n",
       "      <td>12</td>\n",
       "      <td>12</td>\n",
       "      <td>3</td>\n",
       "      <td>...</td>\n",
       "      <td>0</td>\n",
       "      <td>0</td>\n",
       "      <td>0</td>\n",
       "      <td>0</td>\n",
       "      <td>0</td>\n",
       "      <td>0</td>\n",
       "      <td>0</td>\n",
       "      <td>0</td>\n",
       "      <td>0</td>\n",
       "      <td>8.5000</td>\n",
       "    </tr>\n",
       "    <tr>\n",
       "      <th>4</th>\n",
       "      <td>2005</td>\n",
       "      <td>1</td>\n",
       "      <td>2</td>\n",
       "      <td>21</td>\n",
       "      <td>60</td>\n",
       "      <td>13</td>\n",
       "      <td>20</td>\n",
       "      <td>12</td>\n",
       "      <td>14</td>\n",
       "      <td>2</td>\n",
       "      <td>...</td>\n",
       "      <td>0</td>\n",
       "      <td>1</td>\n",
       "      <td>0</td>\n",
       "      <td>0</td>\n",
       "      <td>0</td>\n",
       "      <td>0</td>\n",
       "      <td>0</td>\n",
       "      <td>0</td>\n",
       "      <td>0</td>\n",
       "      <td>9.0000</td>\n",
       "    </tr>\n",
       "  </tbody>\n",
       "</table>\n",
       "<p>5 rows × 37 columns</p>\n",
       "</div>"
      ],
      "text/plain": [
       "     ID  SEX  MARITAL  FAGE  GAINED  VISITS  MAGE  FEDUC  MEDUC  TOTALP  \\\n",
       "0  2001    2        1    33      26      10    34     12      4       2   \n",
       "1  2002    2        2    19      40      10    18     11     12       1   \n",
       "2  2003    2        1    33      16      14    31     16     16       2   \n",
       "3  2004    1        1    25      40      15    28     12     12       3   \n",
       "4  2005    1        2    21      60      13    20     12     14       2   \n",
       "\n",
       "    ...     HYPERCH  HYPERPR  ECLAMP  CERVIX  PINFANT  PRETERM RENAL RHSEN  \\\n",
       "0   ...           0        0       0       0        0        0     0     0   \n",
       "1   ...           0        0       0       0        0        0     0     0   \n",
       "2   ...           0        0       0       0        0        0     0     0   \n",
       "3   ...           0        0       0       0        0        0     0     0   \n",
       "4   ...           0        1       0       0        0        0     0     0   \n",
       "\n",
       "   UTERINE  BWEIGHT  \n",
       "0        0   4.3750  \n",
       "1        0   6.9375  \n",
       "2        0   8.5000  \n",
       "3        0   8.5000  \n",
       "4        0   9.0000  \n",
       "\n",
       "[5 rows x 37 columns]"
      ]
     },
     "execution_count": 2,
     "metadata": {},
     "output_type": "execute_result"
    }
   ],
   "source": [
    "print(\"TASK 2: Read the dataset...\")\n",
    "dataset = pd.read_csv(\"baby-weights-dataset2.csv\")\n",
    "print(dataset.shape)\n",
    "dataset.head()\n"
   ]
  },
  {
   "cell_type": "markdown",
   "metadata": {},
   "source": [
    "### TASK 3: Compute mean, stdev, min, max, 25% percentile, median and 75% percentile of the dataset (BWEIGHT variable)"
   ]
  },
  {
   "cell_type": "code",
   "execution_count": 3,
   "metadata": {},
   "outputs": [
    {
     "name": "stdout",
     "output_type": "stream",
     "text": [
      "TASK 3: Compute mean, stdev, min, max, 25% percentile, median and 75% percentile of the dataset (BWEIGHT variable)...\n"
     ]
    },
    {
     "data": {
      "text/plain": [
       "count    101400.000000\n",
       "mean          7.258066\n",
       "std           1.329461\n",
       "min           0.187500\n",
       "25%           6.625000\n",
       "50%           7.375000\n",
       "75%           8.062500\n",
       "max          13.062500\n",
       "Name: BWEIGHT, dtype: float64"
      ]
     },
     "execution_count": 3,
     "metadata": {},
     "output_type": "execute_result"
    }
   ],
   "source": [
    "print(\"TASK 3: Compute mean, stdev, min, max, 25% percentile, median and 75% percentile of the dataset (BWEIGHT variable)...\")\n",
    "dataset['BWEIGHT'].describe()\n",
    "\n",
    "\n",
    "\n",
    "\n"
   ]
  },
  {
   "cell_type": "markdown",
   "metadata": {},
   "source": [
    "### TASK 4: Also, draw the histogram plot for the BWEIGHT variable\n"
   ]
  },
  {
   "cell_type": "code",
   "execution_count": 4,
   "metadata": {},
   "outputs": [
    {
     "name": "stdout",
     "output_type": "stream",
     "text": [
      "TASK 4: Draw the histogram...\n"
     ]
    },
    {
     "data": {
      "image/png": "[encoded data removed]",
      "text/plain": [
       "<Figure size 432x288 with 1 Axes>"
      ]
     },
     "metadata": {
      "needs_background": "light"
     },
     "output_type": "display_data"
    }
   ],
   "source": [
    "print(\"TASK 4: Draw the histogram...\")\n",
    "sns.distplot(dataset['BWEIGHT']);\n",
    "\n",
    "\n",
    "\n",
    "\n"
   ]
  },
  {
   "cell_type": "markdown",
   "metadata": {},
   "source": [
    "### TASK 5: Present the skewness and kurtosis of the BWEIGHT target variable"
   ]
  },
  {
   "cell_type": "code",
   "execution_count": 5,
   "metadata": {},
   "outputs": [
    {
     "name": "stdout",
     "output_type": "stream",
     "text": [
      "TASK 5 - Skewness: -0.936593\n",
      "TASK 5 - Kurtosis: 2.868780\n"
     ]
    }
   ],
   "source": [
    "print(\"TASK 5 - Skewness: %f\" % dataset['BWEIGHT'].skew())\n",
    "print(\"TASK 5 - Kurtosis: %f\" % dataset['BWEIGHT'].kurt())\n",
    "\n",
    "\n",
    "\n"
   ]
  },
  {
   "cell_type": "markdown",
   "metadata": {},
   "source": [
    "### TASK 6: Do variable selection from the pool of 124 variables based on correlation score with the target variable BWEIGHT \n",
    "### Please report all the variables you kept for training."
   ]
  },
  {
   "cell_type": "code",
   "execution_count": 7,
   "metadata": {},
   "outputs": [
    {
     "name": "stdout",
     "output_type": "stream",
     "text": [
      "TASK 8: Tackle the dummy category variables\n",
      "I want to tackle the following variables: 'HISPMOM','HISPDAD','RACEMOM','RACEDAD'. Python will convert them into dummy categorical variables\n",
      "Index(['ID', 'SEX', 'MARITAL', 'FAGE', 'GAINED', 'VISITS', 'MAGE', 'FEDUC',\n",
      "       'MEDUC', 'TOTALP', 'BDEAD', 'TERMS', 'LOUTCOME', 'WEEKS', 'CIGNUM',\n",
      "       'DRINKNUM', 'ANEMIA', 'CARDIAC', 'ACLUNG', 'DIABETES', 'HERPES',\n",
      "       'HYDRAM', 'HEMOGLOB', 'HYPERCH', 'HYPERPR', 'ECLAMP', 'CERVIX',\n",
      "       'PINFANT', 'PRETERM', 'RENAL', 'RHSEN', 'UTERINE', 'BWEIGHT',\n",
      "       'HISPMOM_C', 'HISPMOM_M', 'HISPMOM_N', 'HISPMOM_O', 'HISPMOM_P',\n",
      "       'HISPMOM_S', 'HISPMOM_U', 'HISPDAD_C', 'HISPDAD_M', 'HISPDAD_N',\n",
      "       'HISPDAD_O', 'HISPDAD_P', 'HISPDAD_S', 'HISPDAD_U', 'RACEMOM_0',\n",
      "       'RACEMOM_1', 'RACEMOM_2', 'RACEMOM_3', 'RACEMOM_4', 'RACEMOM_5',\n",
      "       'RACEMOM_6', 'RACEMOM_7', 'RACEMOM_8', 'RACEDAD_0', 'RACEDAD_1',\n",
      "       'RACEDAD_2', 'RACEDAD_3', 'RACEDAD_4', 'RACEDAD_5', 'RACEDAD_6',\n",
      "       'RACEDAD_7', 'RACEDAD_8', 'RACEDAD_9'],\n",
      "      dtype='object')\n",
      "TASK 6: Select 8 variables from the pool to compute the correlation matrix...\n"
     ]
    },
    {
     "data": {
      "image/png": "[encoded data removed]",
      "text/plain": [
       "<Figure size 576x576 with 2 Axes>"
      ]
     },
     "metadata": {},
     "output_type": "display_data"
    },
    {
     "name": "stderr",
     "output_type": "stream",
     "text": [
      "'c' argument looks like a single numeric RGB or RGBA sequence, which should be avoided as value-mapping will have precedence in case its length matches with 'x' & 'y'.  Please use a 2-D array with a single row if you really want to specify the same RGB or RGBA value for all points.\n"
     ]
    },
    {
     "name": "stdout",
     "output_type": "stream",
     "text": [
      "As the correlation score, the variables that are kept for training is WEEKS and GAINED, as desccribed in the chart below.\n"
     ]
    },
    {
     "name": "stderr",
     "output_type": "stream",
     "text": [
      "'c' argument looks like a single numeric RGB or RGBA sequence, which should be avoided as value-mapping will have precedence in case its length matches with 'x' & 'y'.  Please use a 2-D array with a single row if you really want to specify the same RGB or RGBA value for all points.\n"
     ]
    },
    {
     "data": {
      "image/png": "[encoded data removed]",
      "text/plain": [
       "<Figure size 432x288 with 1 Axes>"
      ]
     },
     "metadata": {},
     "output_type": "display_data"
    },
    {
     "data": {
      "image/png": "[encoded data removed]",
      "text/plain": [
       "<Figure size 432x288 with 1 Axes>"
      ]
     },
     "metadata": {},
     "output_type": "display_data"
    }
   ],
   "source": [
    "#convert categorical variable into dummy\n",
    "print(\"TASK 8: Tackle the dummy category variables\")\n",
    "print(\"I want to tackle the following variables: 'HISPMOM','HISPDAD','RACEMOM','RACEDAD'. Python will convert them into dummy categorical variables\")\n",
    "dataset_dummy = pd.get_dummies(dataset,columns=['HISPMOM','HISPDAD','RACEMOM','RACEDAD'])\n",
    "print(dataset_dummy.columns)\n",
    "\n",
    "print(\"TASK 6: Select 8 variables from the pool to compute the correlation matrix...\")\n",
    "k = 10 #number of variables for heatmap\n",
    "correlation_matrix = dataset_dummy.corr()\n",
    "\n",
    "cols = correlation_matrix.nlargest(k, 'BWEIGHT')['BWEIGHT'].index\n",
    "cm = np.corrcoef(dataset_dummy[cols].values.T)\n",
    "sns.set(font_scale=1.25)\n",
    "f, ax = plt.subplots(figsize=(8,8))\n",
    "hm = sns.heatmap(cm, cbar=True, annot=True, square=True, fmt='.2f', annot_kws={'size': 10}, yticklabels=cols.values, xticklabels=cols.values)\n",
    "plt.show()\n",
    "\n",
    "print(\"As the correlation score, the variables that are kept for training is WEEKS and GAINED, as desccribed in the chart below.\")\n",
    "\n",
    "var = 'WEEKS'\n",
    "data = pd.concat([dataset['BWEIGHT'], dataset[var]], axis=1)\n",
    "data.plot.scatter(x=var, y='BWEIGHT', ylim=(0,20));\n",
    "var = 'GAINED'\n",
    "data = pd.concat([dataset['BWEIGHT'], dataset[var]], axis=1)\n",
    "data.plot.scatter(x=var, y='BWEIGHT', ylim=(0,20));\n"
   ]
  },
  {
   "cell_type": "markdown",
   "metadata": {},
   "source": [
    "### TASK 7: Check for missing data, and apply a \"good\" strategy to tackle it"
   ]
  },
  {
   "cell_type": "code",
   "execution_count": 9,
   "metadata": {
    "scrolled": true
   },
   "outputs": [
    {
     "name": "stdout",
     "output_type": "stream",
     "text": [
      "TASK 7: Check for missing data...\n",
      "          Total  Percent\n",
      "BWEIGHT       0      0.0\n",
      "HISPDAD       0      0.0\n",
      "RACEDAD       0      0.0\n",
      "RACEMOM       0      0.0\n",
      "WEEKS         0      0.0\n",
      "LOUTCOME      0      0.0\n",
      "TERMS         0      0.0\n",
      "BDEAD         0      0.0\n",
      "TOTALP        0      0.0\n",
      "MEDUC         0      0.0\n",
      "FEDUC         0      0.0\n",
      "MAGE          0      0.0\n",
      "VISITS        0      0.0\n",
      "GAINED        0      0.0\n",
      "FAGE          0      0.0\n",
      "MARITAL       0      0.0\n",
      "SEX           0      0.0\n",
      "HISPMOM       0      0.0\n",
      "CIGNUM        0      0.0\n",
      "UTERINE       0      0.0\n",
      "DRINKNUM      0      0.0\n",
      "RHSEN         0      0.0\n",
      "RENAL         0      0.0\n",
      "PRETERM       0      0.0\n",
      "PINFANT       0      0.0\n",
      "CERVIX        0      0.0\n",
      "ECLAMP        0      0.0\n",
      "HYPERPR       0      0.0\n",
      "HYPERCH       0      0.0\n",
      "HEMOGLOB      0      0.0\n",
      "HYDRAM        0      0.0\n",
      "HERPES        0      0.0\n",
      "DIABETES      0      0.0\n",
      "ACLUNG        0      0.0\n",
      "CARDIAC       0      0.0\n",
      "ANEMIA        0      0.0\n",
      "ID            0      0.0\n",
      "There is no missing data in baby-weights-dataset2.\n"
     ]
    }
   ],
   "source": [
    "print(\"TASK 7: Check for missing data...\")\n",
    "total = dataset.isnull().sum().sort_values(ascending=False)\n",
    "percent = (dataset.isnull().sum()/dataset.isnull().count()).sort_values(ascending=False)\n",
    "missing_data = pd.concat([total, percent], axis=1, keys=['Total', 'Percent'])\n",
    "print(missing_data.head(37))\n",
    "\n",
    "print(\"There is no missing data in baby-weights-dataset2.\")\n"
   ]
  },
  {
   "cell_type": "markdown",
   "metadata": {},
   "source": [
    "### TASK 8: Tackle the dummy categorical variables by introducing dummy variables"
   ]
  },
  {
   "cell_type": "code",
   "execution_count": null,
   "metadata": {},
   "outputs": [],
   "source": [
    "\n",
    "\n"
   ]
  },
  {
   "cell_type": "markdown",
   "metadata": {},
   "source": [
    "### TASK 9.1: Randomly split the dataset into training, Tr (80%) and testing, Te (20%)"
   ]
  },
  {
   "cell_type": "code",
   "execution_count": 10,
   "metadata": {},
   "outputs": [
    {
     "name": "stdout",
     "output_type": "stream",
     "text": [
      "TASK 9.1: Randomly split dataset into training(80%), testing(20%)...\n",
      "Put WEEKS and GAINED (kept for training) into X matrix, BWEIGHT into Y matrix. We need to compute the weight vector for linear regression function in later steps\n",
      "Training dataset: x_train['WEEKS','GAINED']; y_train[BWEIGHT]\n",
      "Testing dataset:  x_test['WEEKS','GAINED'];  y_test[BWEIGHT]\n"
     ]
    },
    {
     "data": {
      "text/plain": [
       "'\\nzipped = zip(x_train, y_train)\\nfor i in zipped:\\n    print(i)\\n'"
      ]
     },
     "execution_count": 10,
     "metadata": {},
     "output_type": "execute_result"
    }
   ],
   "source": [
    "print(\"TASK 9.1: Randomly split dataset into training(80%), testing(20%)...\")\n",
    "print(\"Put WEEKS and GAINED (kept for training) into X matrix, BWEIGHT into Y matrix. We need to compute the weight vector for linear regression function in later steps\")\n",
    "weeks_gained = [[x,z] for x,z in zip(dataset['WEEKS'],dataset['GAINED'])]\n",
    "weights = [y for y in dataset['BWEIGHT']]\n",
    "x_train, x_test, y_train, y_test = train_test_split(weeks_gained, weights, test_size=0.2) \n",
    "print(\"Training dataset: x_train['WEEKS','GAINED']; y_train[BWEIGHT]\")\n",
    "print(\"Testing dataset:  x_test['WEEKS','GAINED'];  y_test[BWEIGHT]\")\n",
    "'''\n",
    "zipped = zip(x_train, y_train)\n",
    "for i in zipped:\n",
    "    print(i)\n",
    "'''\n",
    "\n",
    "\n"
   ]
  },
  {
   "cell_type": "markdown",
   "metadata": {},
   "source": [
    "### TASK 9.2: On the training dataset, apply a normalization technique"
   ]
  },
  {
   "cell_type": "code",
   "execution_count": 12,
   "metadata": {
    "scrolled": true
   },
   "outputs": [
    {
     "name": "stdout",
     "output_type": "stream",
     "text": [
      "TASK 9.2: Apply normalization technique...\n",
      "***Min-Max normalization - Get the min value of WEEKS, max value of WEEKS, min value of GAINED, max value of GAINED...\n",
      "***Compute the normalized x_train array...\n",
      "***To prepare for the Gradient Descent Algorithm in the next step, it needs to add x0 vector (x0 = 1) to the X matrix\n",
      "***Normalized x_train array, 5 rows: \n",
      "[1, 0.7777777777777778, 0.2857142857142857]\n",
      "[1, 0.7407407407407407, 0.19387755102040816]\n",
      "[1, 0.8148148148148148, 0.21428571428571427]\n",
      "[1, 0.7777777777777778, 0.35714285714285715]\n",
      "[1, 0.7777777777777778, 0.23469387755102042]\n"
     ]
    }
   ],
   "source": [
    "#The normalization function is x_new = (x_old - x_min)/(x_max - x_min)\n",
    "print(\"TASK 9.2: Apply normalization technique...\")\n",
    "print(\"***Min-Max normalization - Get the min value of WEEKS, max value of WEEKS, min value of GAINED, max value of GAINED...\")\n",
    "weeks_min = min(dataset['WEEKS'])  \n",
    "weeks_max = max(dataset['WEEKS'])\n",
    "gained_min = min(dataset['GAINED'])\n",
    "gained_max = max(dataset['GAINED'])\n",
    "print(\"***Compute the normalized x_train array...\")\n",
    "weeks_gained_temp = []\n",
    "for i, j in x_train:\n",
    "    i = (i - weeks_min)/(weeks_max - weeks_min)\n",
    "    j = (j - gained_min)/(gained_max - gained_min)\n",
    "    weeks_gained_temp.append([i,j])     \n",
    "x_train_normalized = weeks_gained_temp\n",
    "#Add x0 to the X matrix\n",
    "print(\"***To prepare for the Gradient Descent Algorithm in the next step, it needs to add x0 vector (x0 = 1) to the X matrix\")\n",
    "for tup in x_train_normalized:\n",
    "    tup.insert(0,1)\n",
    "print (\"***Normalized x_train array, 5 rows: \")\n",
    "for tup in x_train_normalized[:5]:\n",
    "    print(tup)\n"
   ]
  },
  {
   "cell_type": "markdown",
   "metadata": {},
   "source": [
    "### TASK 9.3: Apply the training data statistics to normalize the testing data as well."
   ]
  },
  {
   "cell_type": "code",
   "execution_count": 13,
   "metadata": {},
   "outputs": [
    {
     "name": "stdout",
     "output_type": "stream",
     "text": [
      "TASK 9.3: Apply normalization for testing data as well...\n",
      "To prepare for the Gradient Descent Algorithm in the next step, it needs to add x0 vector (x0 = 1) to the X matrix\n",
      "Normalized x_test array, 5 rows: \n",
      "[1, 0.8148148148148148, 0.25510204081632654]\n",
      "[1, 0.5555555555555556, 0.10204081632653061]\n",
      "[1, 0.8888888888888888, 0.12244897959183673]\n",
      "[1, 0.8148148148148148, 0.2857142857142857]\n",
      "[1, 0.7037037037037037, 0.30612244897959184]\n"
     ]
    }
   ],
   "source": [
    "print(\"TASK 9.3: Apply normalization for testing data as well...\")\n",
    "weeks_gained_temp = []\n",
    "for i, j in x_test:\n",
    "    i = (i - weeks_min)/(weeks_max - weeks_min)\n",
    "    j = (j - gained_min)/(gained_max - gained_min)\n",
    "    weeks_gained_temp.append([i,j])     \n",
    "x_test_normalized = weeks_gained_temp\n",
    "#Add x0 to the X matrix\n",
    "print(\"To prepare for the Gradient Descent Algorithm in the next step, it needs to add x0 vector (x0 = 1) to the X matrix\")\n",
    "for tup in x_test_normalized:\n",
    "    tup.insert(0,1)\n",
    "print (\"Normalized x_test array, 5 rows: \")\n",
    "for tup in x_test_normalized[:5]:\n",
    "    print(tup)\n",
    "\n",
    "\n"
   ]
  },
  {
   "cell_type": "markdown",
   "metadata": {},
   "source": [
    "### TASK 10: Find the linear regression function describing the training dataset using a technique you recently learned in class.  CLOSED-FORM vs. Gradient Descent (batch or stochastic or mini-batch).\n",
    "###          PLEASE DO NOT CALL ANY LIBRARY FUNCTION THAT MIGHT DO THE TASK FOR YOU. If you do, you are most likely get a ZERO for this assignment."
   ]
  },
  {
   "cell_type": "code",
   "execution_count": 14,
   "metadata": {},
   "outputs": [
    {
     "name": "stdout",
     "output_type": "stream",
     "text": [
      "TASK 10: Find the linear regression function...\n",
      "***APPLY CLOSED-FORM...\n",
      "******CLOSED_FORM, Result W(w0,w1,w2) vector:  [0.82052032 7.92165205 1.1466357 ]\n",
      "***APPLY GRADIENT DESCENT...\n",
      "******W(w0,w1,w2) vector will be initialized, corresponding to the X matrix (x0(1), x1(WEEKS), x2(GAINED)) above.\n",
      "******Initialized W(w0,w1,w2) vector to start:  [1.6041340991803605, 5.288657070011629, 0.6457279790579423]\n",
      "******Pick learning rate:  0.5\n",
      "******Pick number of iterations:  100\n",
      "******Start Gradient Descent algorithm - batch process\n",
      "******GRADIENT DESCENT, Result W(w0,w1,w2) vector:  [2.03824854 6.38446846 1.04802406]\n",
      "******End Gradient Descent algorithm\n"
     ]
    }
   ],
   "source": [
    "print(\"TASK 10: Find the linear regression function...\")\n",
    "print(\"***APPLY CLOSED-FORM...\")\n",
    "#w=(X.transpose * X).inverse*X.transpose*Y\n",
    "#a = X.transpose * X\n",
    "a = np.matrix(np.dot(np.matrix(x_train_normalized).T, np.matrix(x_train_normalized)))\n",
    "#b = a.inversve * X.transpose\n",
    "b = np.matrix(np.dot(inv(a), np.matrix(x_train_normalized).T))\n",
    "#w=b*Y\n",
    "w = np.dot(np.array(b),np.array(y_train))\n",
    "print(\"******CLOSED_FORM, Result W(w0,w1,w2) vector: \", w)\n",
    "#print(\"******Since X = x_train['WEEKS','GAINED'], meaning always two columns, but thousands of rows, it will not be a square matrix. Therefore x_train can't be inversed. Subsequently CLOSED-FORM doesn't work\")\n",
    "print(\"***APPLY GRADIENT DESCENT...\")\n",
    "#------------------------------------------------------------\n",
    "def gradient_descent(y, x, weight_vector, l_rate, iters):\n",
    "    m = np.array(y).size\n",
    "    for i in range(iters):\n",
    "        y_predictions = np.array(np.dot(x, weight_vector))\n",
    "        weight_vector = weight_vector - l_rate*(1/m)*np.dot(np.array(x).T, y_predictions - np.array(y))\n",
    "    return weight_vector\n",
    "#-------------------------------------------------------------\n",
    "#Declare W vector\n",
    "W = []\n",
    "print(\"******W(w0,w1,w2) vector will be initialized, corresponding to the X matrix (x0(1), x1(WEEKS), x2(GAINED)) above.\")\n",
    "#Initialize the W vector, 3 entries\n",
    "W = [random.random()*random.randint(1,10) for x in range(3)]\n",
    "print(\"******Initialized W(w0,w1,w2) vector to start: \", W)\n",
    "#Pick the learning rate\n",
    "learning_rate = 0.5\n",
    "print(\"******Pick learning rate: \", learning_rate)\n",
    "#Pick the iterations\n",
    "iterations = 100\n",
    "print(\"******Pick number of iterations: \", iterations)\n",
    "#Execute Gradient Descent\n",
    "print(\"******Start Gradient Descent algorithm - batch process\")\n",
    "W = gradient_descent(y_train, x_train_normalized, W, learning_rate, iterations)\n",
    "print(\"******GRADIENT DESCENT, Result W(w0,w1,w2) vector: \", W)\n",
    "print(\"******End Gradient Descent algorithm\")\n",
    "\n",
    "\n",
    "\n",
    "\n"
   ]
  },
  {
   "cell_type": "markdown",
   "metadata": {},
   "source": [
    "### Task 11: Predict BWEIGHT target variable for each of the testing dataset using the regression line you learned in Task 10, and report RMSE(testing) (Root Mean Squared Error)"
   ]
  },
  {
   "cell_type": "code",
   "execution_count": 15,
   "metadata": {
    "scrolled": true
   },
   "outputs": [
    {
     "name": "stdout",
     "output_type": "stream",
     "text": [
      "TASK 11: Predict BWEIGHT target variable for each of the testing dataset using the regression line you learned in Task 10\n",
      "***We supposed to use the formula: Yi=W.transpose*Xi.\n",
      "***However, the W.transpose is (3,1) matrix, X is (m,3) matrix, we can't use the formular. I'll discuss this with you later.\n",
      "***I am using the loops to compute Y...\n",
      "***y_predicted, 5 rows:  [7.507761100742376, 5.692116691314955, 7.841661090105298, 7.539843469998105, 6.851846331961972]\n",
      "***RMSE(testing) - Root Mean Square Error:  1.0965949937334005\n"
     ]
    }
   ],
   "source": [
    "print(\"TASK 11: Predict BWEIGHT target variable for each of the testing dataset using the regression line you learned in Task 10\")\n",
    "print(\"***We supposed to use the formula: Yi=W.transpose*Xi.\")\n",
    "print(\"***However, the W.transpose is (3,1) matrix, X is (m,3) matrix, we can't use the formular. I'll discuss this with you later.\")\n",
    "print(\"***I am using the loops to compute Y...\")\n",
    "'''\n",
    "y = []\n",
    "for i, tup in zip(range(len(x_test_normalized)), x_test_normalized):\n",
    "    temp = np.dot( np.matrix(tup),np.matrix(weights).T)\n",
    "    y.append(temp)\n",
    "print (y[:10])\n",
    "'''\n",
    "#Declare y_predicted\n",
    "y_predicted = []\n",
    "\n",
    "def predictY(x, weight_vector):\n",
    "    result = []\n",
    "    for i in range (len(np.array(x))):\n",
    "        temp = 0\n",
    "        for j in range (len(np.array(weight_vector))):\n",
    "            temp = temp + weight_vector[j]*x[i][j]\n",
    "        result.append(temp)\n",
    "    #print(\"***y_predicted, 5 rows: \", result[:5])\n",
    "    return(result)\n",
    "y_predicted = predictY(x_test_normalized, W)\n",
    "print(\"***y_predicted, 5 rows: \", y_predicted[:5])\n",
    "#--------------------------------------------------------------------\n",
    "RMSE = 0\n",
    "def root_mean_sqr_err(predicted, real):\n",
    "    result = 0\n",
    "    temp = []\n",
    "    m = np.array(real).size\n",
    "    for i in range(m):\n",
    "        dif = math.pow(predicted[i] - real[i],2)\n",
    "        temp.append(dif)\n",
    "    result = math.pow(sum(temp)/m,1/2)\n",
    "    return result\n",
    "RMSE = root_mean_sqr_err(y_predicted, y_test)\n",
    "print(\"***RMSE(testing) - Root Mean Square Error: \", RMSE)\n",
    "#Store the RMSE in an array\n",
    "RMSE_array = []\n",
    "RMSE_array.append(RMSE)\n",
    "\n",
    "\n"
   ]
  },
  {
   "cell_type": "markdown",
   "metadata": {},
   "source": [
    "### Repeat TASK 10 additional four times : Run linear regression training again\n",
    "### After each run, Report RMSE(testing)\n"
   ]
  },
  {
   "cell_type": "code",
   "execution_count": 16,
   "metadata": {},
   "outputs": [
    {
     "name": "stdout",
     "output_type": "stream",
     "text": [
      "TASK12: Repeat TASK 10 additional four times\n",
      "***Learning rate:  0.5\n",
      "***No. of iterations:  100\n",
      "******Step  0\n",
      "******RMSE(testing) - Root Mean Square Error:  1.092307725372299\n",
      "******Step  1\n",
      "******RMSE(testing) - Root Mean Square Error:  1.0897813970486498\n",
      "******Step  2\n",
      "******RMSE(testing) - Root Mean Square Error:  1.0882786216309601\n",
      "******Step  3\n",
      "******RMSE(testing) - Root Mean Square Error:  1.0873800265963958\n"
     ]
    }
   ],
   "source": [
    "print(\"TASK12: Repeat TASK 10 additional four times\") \n",
    "print(\"***Learning rate: \", learning_rate)\n",
    "print(\"***No. of iterations: \", iterations)\n",
    "#print(\"***Initialize W(w0, w1, w2) vector again, you can skip this step\")\n",
    "#W = [random.random()*random.randint(1,10) for x in range(3)]\n",
    "for i in range(4): \n",
    "    print(\"******Step \", i)\n",
    "    W = gradient_descent(y_train, x_train_normalized, W, learning_rate, iterations)\n",
    "    #print(\"******GRADIENT DESCENT, Result W(w0,w1,w2) vector: \", W)\n",
    "    y_predicted = predictY(x_test_normalized, W)\n",
    "    RMSE = root_mean_sqr_err(y_predicted, y_test)\n",
    "    print(\"******RMSE(testing) - Root Mean Square Error: \", RMSE)\n",
    "    RMSE_array.append(RMSE)\n"
   ]
  },
  {
   "cell_type": "markdown",
   "metadata": {},
   "source": [
    "### Task 12: Finally, Report RMSE(testing) = Average(RMSE_test) $\\pm$ Stdev(RMSE_test)\n",
    "### Here Average(RMSE_test) = average of all the 5 RMSE(testing) scores you got above.\n",
    "### And, stdev(RMSE_test) = standard deviation of all the 5 RMSE(testing) scores above."
   ]
  },
  {
   "cell_type": "code",
   "execution_count": 19,
   "metadata": {},
   "outputs": [
    {
     "name": "stdout",
     "output_type": "stream",
     "text": [
      "TASK12: Report RMSE(testing) = Average(RMSE_test) $\\pm$ Stdev(RMSE_test)\n",
      "***5 RMSE collected:  [1.0965949937334005, 1.092307725372299, 1.0897813970486498, 1.0882786216309601, 1.0873800265963958]\n",
      "***STDEV:  0.003314296595595338\n",
      "***Average:  1.090868552876341\n",
      "***RMSE(testing) = ( 1.090868552876341 +/_ 0.003314296595595338 )\n"
     ]
    }
   ],
   "source": [
    "print(\"TASK12: Report RMSE(testing) = Average(RMSE_test) $\\pm$ Stdev(RMSE_test)\")\n",
    "print(\"***5 RMSE collected: \", RMSE_array)\n",
    "RMSE_stdev = 0\n",
    "def stdev(list):\n",
    "    result = 0\n",
    "    temp = []\n",
    "    m = np.array(list).size\n",
    "    list_mean = sum(list)/m\n",
    "    for i in range(m):   \n",
    "        dif = math.pow(list[i] - list_mean,2)\n",
    "        temp.append(dif)\n",
    "    result = math.pow(sum(temp)/m,1/2)\n",
    "    return result\n",
    "RMSE_stdev = stdev(RMSE_array)\n",
    "print(\"***STDEV: \", RMSE_stdev)\n",
    "RMSE_average = sum(RMSE_array)/len(RMSE_array)\n",
    "print(\"***Average: \", RMSE_average)\n",
    "print(\"***RMSE(testing) = (\", RMSE_average , \"+/_\", RMSE_stdev, \")\")\n",
    "    "
   ]
  },
  {
   "cell_type": "markdown",
   "metadata": {},
   "source": [
    "### Task 13: Run linear regression one last time on the whole dataset  (i.e, training+testing which is preprocessed by you above)."
   ]
  },
  {
   "cell_type": "code",
   "execution_count": 20,
   "metadata": {},
   "outputs": [
    {
     "name": "stdout",
     "output_type": "stream",
     "text": [
      "TASK13: Run linear regression one last time on the whole dataset\n",
      "***Merge y_train and y_test, x_train_normalized and x_test_normalized\n",
      "***Run the linear regression on the MERGED dataset\n",
      "******Initialize W(w0, w1, w2) vector again, you can skip this step\n",
      "******GRADIENT DESCENT, Result W(w0,w1,w2) vector:  [2.93743074 4.90332677 1.82753434]\n"
     ]
    }
   ],
   "source": [
    "print(\"TASK13: Run linear regression one last time on the whole dataset\")\n",
    "print(\"***Merge y_train and y_test, x_train_normalized and x_test_normalized\")\n",
    "weights_merged = []\n",
    "y_train_temp = y_train\n",
    "for i in range(len(y_test)):\n",
    "    y_train_temp.append(y_test[i])\n",
    "weights_merged = y_train_temp\n",
    "\n",
    "weeks_gained_merged = []\n",
    "x_train_normalized_temp = x_train_normalized\n",
    "for i in range(len(x_test_normalized)):\n",
    "    x_train_normalized_temp.append(x_test_normalized[i])\n",
    "weeks_gained_merged = x_train_normalized_temp\n",
    "print(\"***Run the linear regression on the MERGED dataset\")\n",
    "print(\"******Initialize W(w0, w1, w2) vector again, you can skip this step\")\n",
    "W = [random.random()*random.randint(1,10) for x in range(3)]\n",
    "W = gradient_descent(weights_merged, weeks_gained_merged, W, learning_rate, iterations)\n",
    "print(\"******GRADIENT DESCENT, Result W(w0,w1,w2) vector: \", W)"
   ]
  },
  {
   "cell_type": "markdown",
   "metadata": {},
   "source": [
    "### Task 14: Preprocess the judge-without-label.csv file according টo the strategy you applied above on the whole dataset (task 13)"
   ]
  },
  {
   "cell_type": "code",
   "execution_count": 21,
   "metadata": {},
   "outputs": [
    {
     "name": "stdout",
     "output_type": "stream",
     "text": [
      "TASK14: Preprocess the judge-without-label.csv file\n",
      "***Read data in judge-without-label.cvs file\n",
      "***Dataset Judge shape:  (2001, 36)\n",
      "***Still keep the independent variables WEEKS and GAINED for examination\n",
      "***Put WEEKS and GAINED into X matrix. No Y matrix yet. We need to apply linear regression function to compute Y\n",
      "***Apply normalization technique...\n",
      "***Compute the normalized x_normalized_judge array...\n",
      "***To prepare for the Gradient Descent prediction in the next step, it needs to add X0 vector (X0 = 1) to the X matrix\n"
     ]
    }
   ],
   "source": [
    "print(\"TASK14: Preprocess the judge-without-label.csv file\")\n",
    "print(\"***Read data in judge-without-label.cvs file\")\n",
    "dataset_judge = pd.read_csv('judge-without-labels.csv')\n",
    "print(\"***Dataset Judge shape: \", dataset_judge.shape)\n",
    "\n",
    "print(\"***Still keep the independent variables WEEKS and GAINED for examination\")\n",
    "print(\"***Put WEEKS and GAINED into X matrix. No Y matrix yet. We need to apply linear regression function to compute Y\")\n",
    "weeks_gained_judge = [[x,z] for x,z in zip(dataset_judge['WEEKS'],dataset_judge['GAINED'])]\n",
    "print(\"***Apply normalization technique...\")\n",
    "weeks_min_judge = min(dataset_judge['WEEKS'])  \n",
    "weeks_max_judge = max(dataset_judge['WEEKS'])\n",
    "gained_min_judge = min(dataset_judge['GAINED'])\n",
    "gained_max_judge = max(dataset_judge['GAINED'])\n",
    "print(\"***Compute the normalized x_normalized_judge array...\")\n",
    "weeks_gained_temp_judge = []\n",
    "for i, j in weeks_gained_judge:\n",
    "    i = (i - weeks_min_judge)/(weeks_max_judge - weeks_min_judge)\n",
    "    j = (j - gained_min_judge)/(gained_max_judge - gained_min_judge)\n",
    "    weeks_gained_temp_judge.append([i,j])     \n",
    "x_normalized_judge = weeks_gained_temp_judge\n",
    "#Add x0 to the X matrix\n",
    "print(\"***To prepare for the Gradient Descent prediction in the next step, it needs to add X0 vector (X0 = 1) to the X matrix\")\n",
    "for tup in x_normalized_judge:\n",
    "    tup.insert(0,1)\n",
    "\n",
    "\n",
    "\n"
   ]
  },
  {
   "cell_type": "markdown",
   "metadata": {},
   "source": [
    "### Task 15: Predict BWEIGHT for each of the samples from the judge-without-label.csv file, and save the results in judge-submission-run-1.csv in the format below. Please change the run number and report what changes you have made in a corresponding file run-1.txt."
   ]
  },
  {
   "cell_type": "code",
   "execution_count": 42,
   "metadata": {
    "scrolled": true
   },
   "outputs": [
    {
     "name": "stdout",
     "output_type": "stream",
     "text": [
      "Task 15: Predict BWEIGHT for each of the samples from the judge-without-label.csv file\n",
      "***Save predicted result to file...\n",
      "[[0, 7.290111532747385], [1, 7.360160990701753], [2, 7.329623210459365], [3, 7.3301809946183685], [4, 7.316665140425468]]\n"
     ]
    }
   ],
   "source": [
    "print(\"Task 15: Predict BWEIGHT for each of the samples from the judge-without-label.csv file\")\n",
    "y_predicted_judge = []\n",
    "y_predicted_judge = predictY(x_normalized_judge, W)\n",
    "print(\"***Save predicted result to file...\")\n",
    "y_predicted_judge_to_save = np.array(y_predicted_judge)\n",
    "temp = []\n",
    "i = 0\n",
    "for tup in y_predicted_judge_to_save:\n",
    "    b = [] \n",
    "    b.append(i)\n",
    "    b.append(tup)\n",
    "    temp.append(b)\n",
    "    i = i + 1\n",
    "y_predicted_judge_to_save = temp\n",
    "print(y_predicted_judge_to_save[:5])\n",
    "run = 1\n",
    "np.savetxt(f'judge-submission-run-{run}.csv', y_predicted_judge_to_save, fmt = \"%i,%f\", delimiter=\",\", header=\"ID,BWEIGHT\", comments='')\n",
    "\n",
    "\n",
    "\n",
    "\n",
    "\n",
    "\n",
    "\n"
   ]
  },
  {
   "cell_type": "markdown",
   "metadata": {},
   "source": [
    "# Tasks only for CSCI-5930 (Grad) students"
   ]
  },
  {
   "cell_type": "markdown",
   "metadata": {},
   "source": [
    "### Task 16: Repeat tasks 9-12 three times, and report the ultimate RMSE_test average $\\pm$ ultimate RMSE_test stdev"
   ]
  },
  {
   "cell_type": "code",
   "execution_count": 43,
   "metadata": {},
   "outputs": [
    {
     "name": "stdout",
     "output_type": "stream",
     "text": [
      "TASK 16: Repeat tasks 9-12 three times.\n",
      "***x_normalized_judge dataset is already normalized, just need to split\n",
      "***Step:  0\n",
      "******Compute W(w0,w1,w2) vector base on training dataset\n",
      "******Apply W(w0,w1,w2) vector and test dataset to predict y^\n",
      "******RMSE(judge testing) - Root Mean Square Error:  0.04398861849372978\n",
      "***Step:  1\n",
      "******Compute W(w0,w1,w2) vector base on training dataset\n",
      "******Apply W(w0,w1,w2) vector and test dataset to predict y^\n",
      "******RMSE(judge testing) - Root Mean Square Error:  0.041431522631496014\n",
      "***Step:  2\n",
      "******Compute W(w0,w1,w2) vector base on training dataset\n",
      "******Apply W(w0,w1,w2) vector and test dataset to predict y^\n",
      "******RMSE(judge testing) - Root Mean Square Error:  0.04007322238260713\n",
      "***Ultimate Report***\n",
      "***STDEV(judge testing):  0.0016232356412007262\n",
      "***Average(judge testing):  0.04183112116927764\n",
      "***RMSE(judge testing) = ( 1.090868552876341 +/_ 0.003314296595595338 )\n"
     ]
    }
   ],
   "source": [
    "print(\"TASK 16: Repeat tasks 9-12 three times.\")\n",
    "print(\"***x_normalized_judge dataset is already normalized, just need to split\")\n",
    "x_train_judge, x_test_judge = train_test_split(x_normalized_judge, test_size=0.2)\n",
    "y_train_judge, y_test_judge = train_test_split(y_predicted_judge, test_size=0.2)\n",
    "RMSE_array_judge = []\n",
    "for i in range(3):\n",
    "    print(\"***Step: \", i)\n",
    "    print(\"******Compute W(w0,w1,w2) vector base on training dataset\")\n",
    "    W = gradient_descent(y_train_judge, x_train_judge, W, learning_rate, iterations)\n",
    "    print(\"******Apply W(w0,w1,w2) vector and test dataset to predict y^\")\n",
    "    y_predicted_test_judge = predictY(x_test_judge, W)\n",
    "    RMSE_judge = root_mean_sqr_err(y_predicted_test_judge, y_test_judge)\n",
    "    print(\"******RMSE(judge testing) - Root Mean Square Error: \", RMSE_judge)\n",
    "    RMSE_array_judge.append(RMSE_judge)\n",
    "RMSE_stdev_judge = stdev(RMSE_array_judge)\n",
    "print(\"***Ultimate Report***\")\n",
    "print(\"***STDEV(judge testing): \", RMSE_stdev_judge)\n",
    "RMSE_average_judge = sum(RMSE_array_judge)/len(RMSE_array_judge)\n",
    "print(\"***Average(judge testing): \", RMSE_average_judge)\n",
    "print(\"***RMSE(judge testing) = (\", RMSE_average , \"+/_\", RMSE_stdev, \")\")\n"
   ]
  },
  {
   "cell_type": "markdown",
   "metadata": {},
   "source": [
    "### Task 17: Make an entry in the Kaggle challenge [https://www.kaggle.com/c/csci-ml-s19-pa1/] by joining and submitting the judge-submission-run1.csv file, and please report your Kaggle handle here too.\n",
    "### There is limit of 5 entries each day untile the deadline.\n",
    "### For each of the runs you submit, please report here the RMSE you got (as reported by the Kaggle platform)."
   ]
  },
  {
   "cell_type": "code",
   "execution_count": 45,
   "metadata": {},
   "outputs": [
    {
     "name": "stdout",
     "output_type": "stream",
     "text": [
      "Kaggle score: 1.26773\n"
     ]
    }
   ],
   "source": [
    "print(\"Kaggle score: 1.26773\")\n",
    "\n",
    "\n",
    "    \n",
    "\n",
    "\n",
    "\n",
    "\n",
    "\n"
   ]
  },
  {
   "cell_type": "code",
   "execution_count": null,
   "metadata": {},
   "outputs": [],
   "source": []
  }
 ],
 "metadata": {
  "kernelspec": {
   "display_name": "Python 3",
   "language": "python",
   "name": "python3"
  },
  "language_info": {
   "codemirror_mode": {
    "name": "ipython",
    "version": 3
   },
   "file_extension": ".py",
   "mimetype": "text/x-python",
   "name": "python",
   "nbconvert_exporter": "python",
   "pygments_lexer": "ipython3",
   "version": "3.7.1"
  },
  "varInspector": {
   "cols": {
    "lenName": 16,
    "lenType": 16,
    "lenVar": 40
   },
   "kernels_config": {
    "python": {
     "delete_cmd_postfix": "",
     "delete_cmd_prefix": "del ",
     "library": "var_list.py",
     "varRefreshCmd": "print(var_dic_list())"
    },
    "r": {
     "delete_cmd_postfix": ") ",
     "delete_cmd_prefix": "rm(",
     "library": "var_list.r",
     "varRefreshCmd": "cat(var_dic_list()) "
    }
   },
   "types_to_exclude": [
    "module",
    "function",
    "builtin_function_or_method",
    "instance",
    "_Feature"
   ],
   "window_display": false
  }
 },
 "nbformat": 4,
 "nbformat_minor": 2
}
