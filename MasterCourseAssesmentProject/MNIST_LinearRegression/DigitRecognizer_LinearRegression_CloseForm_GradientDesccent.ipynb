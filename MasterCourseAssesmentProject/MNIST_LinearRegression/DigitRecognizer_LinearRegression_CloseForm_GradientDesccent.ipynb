{
 "cells": [
  {
   "cell_type": "code",
   "execution_count": 13,
   "metadata": {},
   "outputs": [],
   "source": [
    "import pandas as pd\n",
    "import numpy as np\n",
    "import random\n",
    "from numpy.linalg import inv"
   ]
  },
  {
   "cell_type": "code",
   "execution_count": 14,
   "metadata": {},
   "outputs": [],
   "source": [
    "# READ DATASET\n",
    "train = pd.read_csv(\"train.csv\")\n",
    "test = pd.read_csv(\"test.csv\")"
   ]
  },
  {
   "cell_type": "code",
   "execution_count": 15,
   "metadata": {},
   "outputs": [
    {
     "name": "stdout",
     "output_type": "stream",
     "text": [
      "(42000, 28, 28, 1)\n"
     ]
    }
   ],
   "source": [
    "# PREPARE DATA\n",
    "Y_train = train[\"label\"]\n",
    "X_train = train.drop(labels = [\"label\"], axis = 1)\n",
    "X_train = X_train.values.reshape(-1,28,28,1)\n",
    "X_test = test.values.reshape(-1,28,28,1)\n",
    "print(X_train.shape)"
   ]
  },
  {
   "cell_type": "code",
   "execution_count": 16,
   "metadata": {},
   "outputs": [],
   "source": [
    "# NORMALIZE DATA\n",
    "X_train = X_train/255.0\n",
    "X_test = X_test/255.0"
   ]
  },
  {
   "cell_type": "code",
   "execution_count": 17,
   "metadata": {},
   "outputs": [
    {
     "data": {
      "image/png": "[encoded data removed]",
      "text/plain": [
       "<Figure size 432x288 with 40 Axes>"
      ]
     },
     "metadata": {
      "needs_background": "light"
     },
     "output_type": "display_data"
    }
   ],
   "source": [
    "import matplotlib.pyplot as plt\n",
    "# PREVIEW IMAGES\n",
    "for i in range(40):  \n",
    "    plt.subplot(4, 10, i+1)\n",
    "    plt.imshow(X_train[i].reshape((28,28)),cmap=plt.cm.binary)\n",
    "    plt.axis('off')\n",
    "plt.show()"
   ]
  },
  {
   "cell_type": "code",
   "execution_count": 8,
   "metadata": {},
   "outputs": [
    {
     "name": "stdout",
     "output_type": "stream",
     "text": [
      "***APPLY CLOSED-FORM...\n",
      "(42000, 784)\n"
     ]
    },
    {
     "ename": "LinAlgError",
     "evalue": "Singular matrix",
     "output_type": "error",
     "traceback": [
      "\u001b[1;31m---------------------------------------------------------------------------\u001b[0m",
      "\u001b[1;31mLinAlgError\u001b[0m                               Traceback (most recent call last)",
      "\u001b[1;32m<ipython-input-8-bea75ae1969a>\u001b[0m in \u001b[0;36m<module>\u001b[1;34m\u001b[0m\n\u001b[0;32m      7\u001b[0m \u001b[0mprint\u001b[0m\u001b[1;33m(\u001b[0m\u001b[0mX_train\u001b[0m\u001b[1;33m.\u001b[0m\u001b[0mshape\u001b[0m\u001b[1;33m)\u001b[0m\u001b[1;33m\u001b[0m\u001b[1;33m\u001b[0m\u001b[0m\n\u001b[0;32m      8\u001b[0m \u001b[0ma\u001b[0m \u001b[1;33m=\u001b[0m \u001b[0mnp\u001b[0m\u001b[1;33m.\u001b[0m\u001b[0mmatrix\u001b[0m\u001b[1;33m(\u001b[0m\u001b[0mnp\u001b[0m\u001b[1;33m.\u001b[0m\u001b[0mdot\u001b[0m\u001b[1;33m(\u001b[0m\u001b[0mnp\u001b[0m\u001b[1;33m.\u001b[0m\u001b[0mmatrix\u001b[0m\u001b[1;33m(\u001b[0m\u001b[0mX_train\u001b[0m\u001b[1;33m)\u001b[0m\u001b[1;33m.\u001b[0m\u001b[0mT\u001b[0m\u001b[1;33m,\u001b[0m \u001b[0mnp\u001b[0m\u001b[1;33m.\u001b[0m\u001b[0mmatrix\u001b[0m\u001b[1;33m(\u001b[0m\u001b[0mX_train\u001b[0m\u001b[1;33m)\u001b[0m\u001b[1;33m)\u001b[0m\u001b[1;33m)\u001b[0m\u001b[1;33m\u001b[0m\u001b[1;33m\u001b[0m\u001b[0m\n\u001b[1;32m----> 9\u001b[1;33m \u001b[0ma\u001b[0m \u001b[1;33m=\u001b[0m \u001b[0minv\u001b[0m\u001b[1;33m(\u001b[0m\u001b[0ma\u001b[0m\u001b[1;33m)\u001b[0m \u001b[1;31m#CANNOT INVERT AS a is A SINGULAR MATRIX\u001b[0m\u001b[1;33m\u001b[0m\u001b[1;33m\u001b[0m\u001b[0m\n\u001b[0m\u001b[0;32m     10\u001b[0m \u001b[0mb\u001b[0m \u001b[1;33m=\u001b[0m \u001b[0mnp\u001b[0m\u001b[1;33m.\u001b[0m\u001b[0mmatrix\u001b[0m\u001b[1;33m(\u001b[0m\u001b[0mnp\u001b[0m\u001b[1;33m.\u001b[0m\u001b[0mdot\u001b[0m\u001b[1;33m(\u001b[0m\u001b[0ma\u001b[0m\u001b[1;33m,\u001b[0m \u001b[0mnp\u001b[0m\u001b[1;33m.\u001b[0m\u001b[0mmatrix\u001b[0m\u001b[1;33m(\u001b[0m\u001b[0mX_train\u001b[0m\u001b[1;33m)\u001b[0m\u001b[1;33m.\u001b[0m\u001b[0mT\u001b[0m\u001b[1;33m)\u001b[0m\u001b[1;33m)\u001b[0m\u001b[1;33m\u001b[0m\u001b[1;33m\u001b[0m\u001b[0m\n\u001b[0;32m     11\u001b[0m \u001b[0mw\u001b[0m \u001b[1;33m=\u001b[0m \u001b[0mnp\u001b[0m\u001b[1;33m.\u001b[0m\u001b[0mdot\u001b[0m\u001b[1;33m(\u001b[0m\u001b[0mnp\u001b[0m\u001b[1;33m.\u001b[0m\u001b[0marray\u001b[0m\u001b[1;33m(\u001b[0m\u001b[0mb\u001b[0m\u001b[1;33m)\u001b[0m\u001b[1;33m,\u001b[0m\u001b[0mnp\u001b[0m\u001b[1;33m.\u001b[0m\u001b[0marray\u001b[0m\u001b[1;33m(\u001b[0m\u001b[0mY_train\u001b[0m\u001b[1;33m)\u001b[0m\u001b[1;33m)\u001b[0m\u001b[1;33m\u001b[0m\u001b[1;33m\u001b[0m\u001b[0m\n",
      "\u001b[1;32m~\\Anaconda3\\lib\\site-packages\\numpy\\linalg\\linalg.py\u001b[0m in \u001b[0;36minv\u001b[1;34m(a)\u001b[0m\n\u001b[0;32m    530\u001b[0m     \u001b[0msignature\u001b[0m \u001b[1;33m=\u001b[0m \u001b[1;34m'D->D'\u001b[0m \u001b[1;32mif\u001b[0m \u001b[0misComplexType\u001b[0m\u001b[1;33m(\u001b[0m\u001b[0mt\u001b[0m\u001b[1;33m)\u001b[0m \u001b[1;32melse\u001b[0m \u001b[1;34m'd->d'\u001b[0m\u001b[1;33m\u001b[0m\u001b[1;33m\u001b[0m\u001b[0m\n\u001b[0;32m    531\u001b[0m     \u001b[0mextobj\u001b[0m \u001b[1;33m=\u001b[0m \u001b[0mget_linalg_error_extobj\u001b[0m\u001b[1;33m(\u001b[0m\u001b[0m_raise_linalgerror_singular\u001b[0m\u001b[1;33m)\u001b[0m\u001b[1;33m\u001b[0m\u001b[1;33m\u001b[0m\u001b[0m\n\u001b[1;32m--> 532\u001b[1;33m     \u001b[0mainv\u001b[0m \u001b[1;33m=\u001b[0m \u001b[0m_umath_linalg\u001b[0m\u001b[1;33m.\u001b[0m\u001b[0minv\u001b[0m\u001b[1;33m(\u001b[0m\u001b[0ma\u001b[0m\u001b[1;33m,\u001b[0m \u001b[0msignature\u001b[0m\u001b[1;33m=\u001b[0m\u001b[0msignature\u001b[0m\u001b[1;33m,\u001b[0m \u001b[0mextobj\u001b[0m\u001b[1;33m=\u001b[0m\u001b[0mextobj\u001b[0m\u001b[1;33m)\u001b[0m\u001b[1;33m\u001b[0m\u001b[1;33m\u001b[0m\u001b[0m\n\u001b[0m\u001b[0;32m    533\u001b[0m     \u001b[1;32mreturn\u001b[0m \u001b[0mwrap\u001b[0m\u001b[1;33m(\u001b[0m\u001b[0mainv\u001b[0m\u001b[1;33m.\u001b[0m\u001b[0mastype\u001b[0m\u001b[1;33m(\u001b[0m\u001b[0mresult_t\u001b[0m\u001b[1;33m,\u001b[0m \u001b[0mcopy\u001b[0m\u001b[1;33m=\u001b[0m\u001b[1;32mFalse\u001b[0m\u001b[1;33m)\u001b[0m\u001b[1;33m)\u001b[0m\u001b[1;33m\u001b[0m\u001b[1;33m\u001b[0m\u001b[0m\n\u001b[0;32m    534\u001b[0m \u001b[1;33m\u001b[0m\u001b[0m\n",
      "\u001b[1;32m~\\Anaconda3\\lib\\site-packages\\numpy\\linalg\\linalg.py\u001b[0m in \u001b[0;36m_raise_linalgerror_singular\u001b[1;34m(err, flag)\u001b[0m\n\u001b[0;32m     87\u001b[0m \u001b[1;33m\u001b[0m\u001b[0m\n\u001b[0;32m     88\u001b[0m \u001b[1;32mdef\u001b[0m \u001b[0m_raise_linalgerror_singular\u001b[0m\u001b[1;33m(\u001b[0m\u001b[0merr\u001b[0m\u001b[1;33m,\u001b[0m \u001b[0mflag\u001b[0m\u001b[1;33m)\u001b[0m\u001b[1;33m:\u001b[0m\u001b[1;33m\u001b[0m\u001b[1;33m\u001b[0m\u001b[0m\n\u001b[1;32m---> 89\u001b[1;33m     \u001b[1;32mraise\u001b[0m \u001b[0mLinAlgError\u001b[0m\u001b[1;33m(\u001b[0m\u001b[1;34m\"Singular matrix\"\u001b[0m\u001b[1;33m)\u001b[0m\u001b[1;33m\u001b[0m\u001b[1;33m\u001b[0m\u001b[0m\n\u001b[0m\u001b[0;32m     90\u001b[0m \u001b[1;33m\u001b[0m\u001b[0m\n\u001b[0;32m     91\u001b[0m \u001b[1;32mdef\u001b[0m \u001b[0m_raise_linalgerror_nonposdef\u001b[0m\u001b[1;33m(\u001b[0m\u001b[0merr\u001b[0m\u001b[1;33m,\u001b[0m \u001b[0mflag\u001b[0m\u001b[1;33m)\u001b[0m\u001b[1;33m:\u001b[0m\u001b[1;33m\u001b[0m\u001b[1;33m\u001b[0m\u001b[0m\n",
      "\u001b[1;31mLinAlgError\u001b[0m: Singular matrix"
     ]
    }
   ],
   "source": [
    "print(\"***APPLY CLOSED-FORM...\")\n",
    "#w=(X.transpose * X).inverse*X.transpose*Y\n",
    "#a = X.transpose * X\n",
    "#b = a.inversve * X.transpose\n",
    "#w=b*Y\n",
    "X_train = X_train.reshape(42000,784)\n",
    "print(X_train.shape)\n",
    "a = np.matrix(np.dot(np.matrix(X_train).T, np.matrix(X_train)))\n",
    "a = inv(a) #CANNOT INVERT AS a is A SINGULAR MATRIX\n",
    "b = np.matrix(np.dot(a, np.matrix(X_train).T))\n",
    "w = np.dot(np.array(b),np.array(Y_train))\n",
    "print(\"******CLOSED_FORM, Result W(w0,w1,w2...) vector: \", w)"
   ]
  },
  {
   "cell_type": "code",
   "execution_count": 18,
   "metadata": {},
   "outputs": [
    {
     "name": "stdout",
     "output_type": "stream",
     "text": [
      "***APPLY GRADIENT DESCENT...\n",
      "To prepare for the Gradient Descent Algorithm in the next step, it needs to add x0 vector (x0 = 1) to the X matrix\n",
      "[[1. 0. 0. ... 0. 0. 0.]\n",
      " [1. 0. 0. ... 0. 0. 0.]\n",
      " [1. 0. 0. ... 0. 0. 0.]]\n",
      "******W(w0,w1,w2) vector will be initialized, corresponding to the X matrix (x0(1), x1, x2 above.\n",
      "******Start Gradient Descent algorithm - batch process\n",
      "******GRADIENT DESCENT, Result W(w0,w1,w2...) vector:  [7.29463226e+127 2.40625125e-001 9.87341796e-001 6.93464839e+000\n",
      " 6.81397066e+000]\n",
      "******End Gradient Descent algorithm\n"
     ]
    }
   ],
   "source": [
    "print(\"***APPLY GRADIENT DESCENT...\")\n",
    "#------------------------------------------------------------\n",
    "def gradient_descent(y, x, weight_vector, l_rate, iters):\n",
    "    m = np.array(y).size\n",
    "    for i in range(iters):\n",
    "        y_predictions = np.array(np.dot(x, weight_vector))\n",
    "        weight_vector = weight_vector - l_rate*(1/m)*np.dot(np.array(x).T, y_predictions - np.array(y))\n",
    "    return weight_vector\n",
    "#-------------------------------------------------------------#Add x0 to the X matrix\n",
    "X_train = X_train.reshape(42000,784)\n",
    "print(\"To prepare for the Gradient Descent Algorithm in the next step, it needs to add x0 vector (x0 = 1) to the X matrix\")\n",
    "#Add x0 to the X matrix\n",
    "X0 = np.ones((42000,1))\n",
    "X_train = np.hstack((X0,X_train))\n",
    "print(X_train[:3])\n",
    "#Declare W vector\n",
    "wlength = 784\n",
    "W = []\n",
    "print(\"******W(w0,w1,w2) vector will be initialized, corresponding to the X matrix (x0(1), x1, x2 above.\")\n",
    "#Initialize the W vector, 784 + 1 entries for w0\n",
    "W = [random.random()*random.randint(1,10) for x in range(wlength + 1 )]\n",
    "#Pick the learning rate\n",
    "learning_rate = 0.5\n",
    "#Pick the iterations\n",
    "iterations = 100\n",
    "#Execute Gradient Descent\n",
    "print(\"******Start Gradient Descent algorithm - batch process\")\n",
    "W = gradient_descent(Y_train, X_train, W, learning_rate, iterations)\n",
    "print(\"******GRADIENT DESCENT, Result W(w0,w1,w2...) vector: \", W[:5])\n",
    "print(\"******End Gradient Descent algorithm\")"
   ]
  },
  {
   "cell_type": "code",
   "execution_count": 19,
   "metadata": {},
   "outputs": [
    {
     "name": "stdout",
     "output_type": "stream",
     "text": [
      "(28000, 784)\n",
      "[3.8954815005719456e+129, 3.658980034635497e+129, 1.8293601991034187e+129, 1.961558153480164e+129, 2.83652974862855e+129]\n"
     ]
    }
   ],
   "source": [
    "#PREDICT DIGIT\n",
    "def predictY(x, weight_vector):\n",
    "    result = []\n",
    "    for i in range (len(np.array(x))):\n",
    "        temp = 0\n",
    "        for j in range (len(np.array(weight_vector))):\n",
    "            temp = temp + weight_vector[j]*x[i][j]\n",
    "        result.append(temp)\n",
    "    return(result)\n",
    "\n",
    "X_test = X_test.reshape(28000,784)\n",
    "print(X_test.shape)\n",
    "#Add x0 to the X matrix\n",
    "X0 = np.ones((len(X_test),1))\n",
    "X_test_tmp = np.hstack((X0,X_test))\n",
    "Y_predicted = predictY(X_test_tmp, W)\n",
    "print(Y_predicted[:5])\n"
   ]
  },
  {
   "cell_type": "code",
   "execution_count": 23,
   "metadata": {},
   "outputs": [
    {
     "name": "stdout",
     "output_type": "stream",
     "text": [
      "The first 10 images in the test set\n",
      "\n"
     ]
    },
    {
     "data": {
      "image/png": "[encoded data removed]",
      "text/plain": [
       "<Figure size 432x288 with 10 Axes>"
      ]
     },
     "metadata": {
      "needs_background": "light"
     },
     "output_type": "display_data"
    },
    {
     "name": "stdout",
     "output_type": "stream",
     "text": [
      "The first 10 Y_predicted from Gradient Descent\n",
      "\n",
      "[3.8954815005719456e+129, 3.658980034635497e+129, 1.8293601991034187e+129, 1.961558153480164e+129, 2.83652974862855e+129, 2.3352912889365855e+129, 4.3616407622267916e+129, 3.644503111058372e+129, 3.3745334911955365e+129, 2.5360923960874446e+129]\n",
      "\n",
      "CONCLUSION: Gragient descent algorithm doesn't work for MNIST\n"
     ]
    }
   ],
   "source": [
    "#PREDICT DIGIT vs ACTUAL DIGIT\n",
    "print (\"The first 10 images in the test set\\n\")\n",
    "for i in range(10):  \n",
    "    plt.subplot(1, 10, i+1)\n",
    "    plt.imshow(X_test[i].reshape((28,28)),cmap=plt.cm.binary)\n",
    "    plt.axis('off')\n",
    "plt.show()\n",
    "print (\"The first 10 Y_predicted from Gradient Descent\\n\")\n",
    "print(Y_predicted[0:10])\n",
    "print(\"\\nCONCLUSION: Gragient descent algorithm doesn't work for MNIST\")"
   ]
  },
  {
   "cell_type": "code",
   "execution_count": null,
   "metadata": {},
   "outputs": [],
   "source": []
  }
 ],
 "metadata": {
  "kernelspec": {
   "display_name": "Python 3",
   "language": "python",
   "name": "python3"
  },
  "language_info": {
   "codemirror_mode": {
    "name": "ipython",
    "version": 3
   },
   "file_extension": ".py",
   "mimetype": "text/x-python",
   "name": "python",
   "nbconvert_exporter": "python",
   "pygments_lexer": "ipython3",
   "version": "3.7.4"
  }
 },
 "nbformat": 4,
 "nbformat_minor": 2
}
